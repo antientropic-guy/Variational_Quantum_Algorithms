{
 "cells": [
  {
   "cell_type": "code",
   "execution_count": 1,
   "id": "811fec0e",
   "metadata": {},
   "outputs": [],
   "source": [
    "from __future__ import annotations\n",
    "import cirq\n",
    "import numpy as np\n",
    "import scipy"
   ]
  },
  {
   "cell_type": "code",
   "execution_count": 2,
   "id": "84deca7e",
   "metadata": {},
   "outputs": [],
   "source": [
    "class ParametricCircuit:\n",
    "    def __init__(self, qubit_circuit_length: int, rotation_parameters: list):\n",
    "        \"\"\"\n",
    "\n",
    "        :param qubit_circuit_length: amount of qubits\n",
    "        :param rotation_parameters: list of 2 * qubit_circuit_length rotation angles\n",
    "        \"\"\"\n",
    "        self.qubit_circuit_length = qubit_circuit_length\n",
    "        self.rotation_parameters = rotation_parameters\n",
    "\n",
    "    @property\n",
    "    def generate_circuit(self) -> cirq.Circuit:\n",
    "        \"\"\"\n",
    "\n",
    "        :return: cirq.Circuit object\n",
    "        \"\"\"\n",
    "        qubit_circuit = cirq.LineQubit.range(self.qubit_circuit_length)\n",
    "        new_circuit = cirq.Circuit()\n",
    "        for i in range(len(qubit_circuit)):\n",
    "            new_circuit.append(cirq.Rx(rads=self.rotation_parameters[i])(qubit_circuit[i]))\n",
    "        for i in range(len(qubit_circuit) - 1):\n",
    "            new_circuit.append(cirq.CNOT(qubit_circuit[i], qubit_circuit[i + 1]))\n",
    "        for i in range(len(qubit_circuit)):\n",
    "            new_circuit.append(cirq.Rx(rads=self.rotation_parameters[i + len(qubit_circuit)])(qubit_circuit[i]))\n",
    "        for i in range(len(qubit_circuit) - 1):\n",
    "            new_circuit.append(cirq.CNOT(qubit_circuit[i], qubit_circuit[i + 1]))\n",
    "        return new_circuit\n",
    "\n",
    "    @property\n",
    "    def probability_vector(self) -> numpy.ndarray:\n",
    "        \"\"\"\n",
    "\n",
    "        :return: the list of probability to collapse in |0> state after z-basic measure for each qubit\n",
    "        \"\"\"\n",
    "        simulator = cirq.Simulator()\n",
    "        result = simulator.simulate(self.generate_circuit)\n",
    "        probability_list = []\n",
    "        for i in range(self.qubit_circuit_length):\n",
    "            probability_list.append(1 / 2 * (1 + result.bloch_vector_of(cirq.LineQubit(i))[2]))\n",
    "        probability_list = np.array(probability_list)\n",
    "        return probability_list"
   ]
  },
  {
   "cell_type": "code",
   "execution_count": 4,
   "id": "11bf5a75",
   "metadata": {},
   "outputs": [],
   "source": [
    "def cost_function(probability_vector: np.ndarray) -> float:\n",
    "    \"\"\"\n",
    "\n",
    "    :param probability_vector: vector of probabilities for 5 qubits\n",
    "    :return: the cost value\n",
    "    \"\"\"\n",
    "    bilinear_form = np.array([[-3, 2, 2, 2, 2],\n",
    "                              [0, -3, 2, 2, 2],\n",
    "                              [0, 0, -3, 2, 2],\n",
    "                              [0, 0, 0, -3, 2],\n",
    "                              [0, 0, 0, 0, -3]])\n",
    "    return probability_vector @ bilinear_form @ probability_vector + 4\n",
    "\n",
    "\n",
    "def cost_function_of_angular_argument(rotation_parameters: list) -> float:\n",
    "    \"\"\"\n",
    "\n",
    "    :param rotation_parameters: angles of rotation for 5 qubits\n",
    "    :return: the cost value (using class ParametricCircuit)\n",
    "    \"\"\"\n",
    "    return cost_function(ParametricCircuit(5, rotation_parameters).probability_vector)"
   ]
  },
  {
   "cell_type": "code",
   "execution_count": 3,
   "id": "f9fcd573",
   "metadata": {},
   "outputs": [],
   "source": [
    "def minimize_cost_function() -> list:\n",
    "    \"\"\"\n",
    "\n",
    "    :return: result of applying function from scipy.optimize to the cost function\n",
    "    \"\"\"\n",
    "    starting_point = np.zeros(10)\n",
    "    lower_bound = -2 * np.pi * np.ones(10)\n",
    "    upper_bound = -lower_bound\n",
    "    bounds = [(low, high) for low, high in zip(lower_bound, upper_bound)]\n",
    "    # minimizer_kwargs = dict(bounds=bounds)\n",
    "    description = scipy.optimize.dual_annealing(cost_function_of_angular_argument, bounds=bounds)\n",
    "    return description"
   ]
  },
  {
   "cell_type": "code",
   "execution_count": 5,
   "id": "946e9577",
   "metadata": {},
   "outputs": [
    {
     "name": "stdout",
     "output_type": "stream",
     "text": [
      "     fun: 1.585482516208714e-05\n",
      " message: ['Maximum number of iteration reached']\n",
      "    nfev: 23862\n",
      "    nhev: 0\n",
      "     nit: 1000\n",
      "    njev: 351\n",
      "  status: 0\n",
      " success: True\n",
      "       x: array([-3.57580413e-04,  3.81886309e-04, -2.61748442e-04,  3.13965633e+00,\n",
      "       -5.81623359e+00, -6.28237153e+00, -6.28275711e+00,  3.14259389e+00,\n",
      "        3.14265221e+00, -3.61018255e+00])\n"
     ]
    }
   ],
   "source": [
    "print(minimize_cost_function())"
   ]
  },
  {
   "cell_type": "code",
   "execution_count": 6,
   "id": "fc7cc126",
   "metadata": {},
   "outputs": [
    {
     "name": "stdout",
     "output_type": "stream",
     "text": [
      "     fun: 4.6133802418246717e-05\n",
      " message: ['Maximum number of iteration reached']\n",
      "    nfev: 22751\n",
      "    nhev: 0\n",
      "     nit: 1000\n",
      "    njev: 250\n",
      "  status: 0\n",
      " success: True\n",
      "       x: array([-3.14072845e+00,  3.14151466e+00, -6.28065016e+00, -3.13902456e+00,\n",
      "        4.10760625e+00,  3.14099015e+00,  3.14133944e+00, -2.99540280e-04,\n",
      "       -3.14379355e+00,  2.17229746e+00])\n"
     ]
    }
   ],
   "source": [
    "print(minimize_cost_function())"
   ]
  },
  {
   "cell_type": "code",
   "execution_count": 7,
   "id": "3ffb61b4",
   "metadata": {},
   "outputs": [
    {
     "name": "stdout",
     "output_type": "stream",
     "text": [
      "     fun: 4.792197504954743e-05\n",
      " message: ['Maximum number of iteration reached']\n",
      "    nfev: 21640\n",
      "    nhev: 0\n",
      "     nit: 1000\n",
      "    njev: 149\n",
      "  status: 0\n",
      " success: True\n",
      "       x: array([ 6.67036483e-05,  3.41892297e-04,  6.28197140e+00, -3.14085414e+00,\n",
      "        2.58517926e+00, -6.28194058e+00, -3.13955820e+00,  6.28282480e+00,\n",
      "       -3.14476325e+00, -2.58431094e+00])\n"
     ]
    }
   ],
   "source": [
    "print(minimize_cost_function())"
   ]
  },
  {
   "cell_type": "code",
   "execution_count": 8,
   "id": "e1a383e7",
   "metadata": {},
   "outputs": [
    {
     "name": "stdout",
     "output_type": "stream",
     "text": [
      "     fun: 5.674344299677614e-05\n",
      " message: ['Maximum number of iteration reached']\n",
      "    nfev: 21970\n",
      "    nhev: 0\n",
      "     nit: 1000\n",
      "    njev: 179\n",
      "  status: 0\n",
      " success: True\n",
      "       x: array([ 3.13920898e+00,  3.14382496e+00,  1.86307417e-03, -3.14105581e+00,\n",
      "        3.14929029e+00, -6.28267196e+00,  6.28135242e+00,  3.14132909e+00,\n",
      "        2.01265147e-03,  3.13410067e+00])\n"
     ]
    }
   ],
   "source": [
    "print(minimize_cost_function())"
   ]
  },
  {
   "cell_type": "code",
   "execution_count": 9,
   "id": "775aae92",
   "metadata": {},
   "outputs": [
    {
     "name": "stdout",
     "output_type": "stream",
     "text": [
      "     fun: 3.290168236347313e-05\n",
      " message: ['Maximum number of iteration reached']\n",
      "    nfev: 22245\n",
      "    nhev: 0\n",
      "     nit: 1000\n",
      "    njev: 204\n",
      "  status: 0\n",
      " success: True\n",
      "       x: array([-1.54836836e-03, -3.13984409e+00,  6.28238274e+00, -3.14194190e+00,\n",
      "        3.50678386e+00,  6.28271255e+00,  1.32538250e-04,  3.14175012e+00,\n",
      "        3.14382590e+00, -3.68113552e-01])\n"
     ]
    }
   ],
   "source": [
    "print(minimize_cost_function())"
   ]
  },
  {
   "cell_type": "code",
   "execution_count": 10,
   "id": "c8458980",
   "metadata": {},
   "outputs": [
    {
     "name": "stdout",
     "output_type": "stream",
     "text": [
      "     fun: 3.194803405648372e-05\n",
      " message: ['Maximum number of iteration reached']\n",
      "    nfev: 22058\n",
      "    nhev: 0\n",
      "     nit: 1000\n",
      "    njev: 187\n",
      "  status: 0\n",
      " success: True\n",
      "       x: array([ 3.14275708, -3.14173256, -6.28131527, -3.14055755,  5.27406771,\n",
      "       -3.14338965, -3.14073819,  3.14159923,  6.28256345, -2.13289843])\n"
     ]
    }
   ],
   "source": [
    "print(minimize_cost_function())"
   ]
  },
  {
   "cell_type": "code",
   "execution_count": 11,
   "id": "f1705368",
   "metadata": {},
   "outputs": [
    {
     "name": "stdout",
     "output_type": "stream",
     "text": [
      "     fun: 2.6702834315273094e-05\n",
      " message: ['Maximum number of iteration reached']\n",
      "    nfev: 21563\n",
      "    nhev: 0\n",
      "     nit: 1000\n",
      "    njev: 142\n",
      "  status: 0\n",
      " success: True\n",
      "       x: array([-1.66389441e-03,  6.28307020e+00,  3.14048875e+00,  3.14021834e+00,\n",
      "        6.12555405e+00, -4.84094702e-04,  3.14222804e+00, -3.14326316e+00,\n",
      "        1.03071912e-03, -2.98332185e+00])\n"
     ]
    }
   ],
   "source": [
    "print(minimize_cost_function())"
   ]
  },
  {
   "cell_type": "code",
   "execution_count": 12,
   "id": "50a49471",
   "metadata": {},
   "outputs": [
    {
     "name": "stdout",
     "output_type": "stream",
     "text": [
      "     fun: 2.3245784366743294e-05\n",
      " message: ['Maximum number of iteration reached']\n",
      "    nfev: 22377\n",
      "    nhev: 0\n",
      "     nit: 1000\n",
      "    njev: 216\n",
      "  status: 0\n",
      " success: True\n",
      "       x: array([-6.28312708e+00,  6.28314616e+00, -3.14163771e+00,  3.14268926e+00,\n",
      "       -5.76547195e+00,  1.76502744e-03, -3.14213569e+00,  3.14263043e+00,\n",
      "        3.14138280e+00, -3.65982090e+00])\n"
     ]
    }
   ],
   "source": [
    "print(minimize_cost_function())"
   ]
  },
  {
   "cell_type": "code",
   "execution_count": 13,
   "id": "22617677",
   "metadata": {},
   "outputs": [
    {
     "name": "stdout",
     "output_type": "stream",
     "text": [
      "     fun: 3.623955139175905e-05\n",
      " message: ['Maximum number of iteration reached']\n",
      "    nfev: 22795\n",
      "    nhev: 0\n",
      "     nit: 1000\n",
      "    njev: 254\n",
      "  status: 0\n",
      " success: True\n",
      "       x: array([ 3.14229279e+00, -1.65014515e-04, -3.13997772e+00, -6.28294011e+00,\n",
      "        2.80333813e+00, -3.14093475e+00,  1.84002922e-03, -1.03415116e-03,\n",
      "       -3.14300448e+00,  3.35799619e-01])\n"
     ]
    }
   ],
   "source": [
    "print(minimize_cost_function())"
   ]
  }
 ],
 "metadata": {
  "kernelspec": {
   "display_name": "Python 3",
   "language": "python",
   "name": "python3"
  },
  "language_info": {
   "codemirror_mode": {
    "name": "ipython",
    "version": 3
   },
   "file_extension": ".py",
   "mimetype": "text/x-python",
   "name": "python",
   "nbconvert_exporter": "python",
   "pygments_lexer": "ipython3",
   "version": "3.8.8"
  }
 },
 "nbformat": 4,
 "nbformat_minor": 5
}
